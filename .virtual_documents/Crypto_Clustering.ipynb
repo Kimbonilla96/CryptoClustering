# Import required libraries and dependencies
import pandas as pd
import hvplot.pandas
from sklearn.cluster import KMeans
from sklearn.decomposition import PCA
from sklearn.preprocessing import StandardScaler


# Load the data into a Pandas DataFrame
df_market_data = pd.read_csv(
    "Resources/crypto_market_data.csv",
    index_col="coin_id")

# Display sample data
df_market_data.head(10)


# Generate summary statistics
df_market_data.describe()


df_market_data.hvplot.line(
    width=800,
    height=400,
    rot=90
)








# Use the `StandardScaler()` module from scikit-learn to normalize the data from the CSV file
scaler = StandardScaler()

#fit
scaler.fit(df_market_data[['price_change_percentage_24h','price_change_percentage_7d','price_change_percentage_14d','price_change_percentage_30d','price_change_percentage_60d','price_change_percentage_200d','price_change_percentage_1y']])

#scale
market_data_scaled = scaler.fit_transform(df_market_data[['price_change_percentage_24h','price_change_percentage_7d','price_change_percentage_14d','price_change_percentage_30d','price_change_percentage_60d','price_change_percentage_200d','price_change_percentage_1y']])


# Create a DataFrame with the scaled data
market_data_scaled_df= pd.DataFrame(market_data_scaled, columns=['price_change_percentage_24h','price_change_percentage_7d','price_change_percentage_14d','price_change_percentage_30d','price_change_percentage_60d','price_change_percentage_200d','price_change_percentage_1y'])

# Copy the crypto names from the original data
market_data_scaled_df['coin_id'] = df_market_data.index

# Set the coinid column as index
market_data_scaled_df = market_data_scaled_df.set_index('coin_id')

# Display sample data
market_data_scaled_df.head()








# Create a list with the number of k-values from 1 to 11
k = list(range(1,11))


# Create an empty list to store the inertia values
inertia = []

# Create a for loop to compute the inertia with each possible value of k
# Inside the loop:
# 1. Create a KMeans model using the loop counter for the n_clusters
# 2. Fit the model to the data using `df_market_data_scaled`
# 3. Append the model.inertia_ to the inertia list
for i in k:
    k_model = KMeans(n_clusters=i, random_state=1)
    k_model.fit(market_data_scaled_df)
    inertia.append(k_model.inertia_)


# Create a dictionary with the data to plot the Elbow curve
elbow_data = {"k": k, "inertia": inertia}

# Create a DataFrame with the data to plot the Elbow curve
df_elbow = pd.DataFrame(elbow_data)


# Plot a line chart with all the inertia values computed with 
# the different values of k to visually identify the optimal value for k.
df_elbow.hvplot.line(
    x="k", 
    y="inertia", 
    title="Elbow Curve", 
    xticks=k
)











# Initialize the K-Means model using the best value for k
model = KMeans(n_clusters=4, random_state=1)


# Fit the K-Means model using the scaled data
model.fit(market_data_scaled_df)


# Predict the clusters to group the cryptocurrencies using the scaled data
k_4 = model.predict(market_data_scaled_df)

# Print the resulting array of cluster values.
k_4


# Create a copy of the DataFrame
market_data_scaled_copy_df = market_data_scaled_df.copy()


# Add a new column to the DataFrame with the predicted clusters
market_data_scaled_copy_df['clusters'] = k_4

# Display sample data
market_data_scaled_copy_df.head()


# Create a scatter plot using hvPlot by setting 
# `x="price_change_percentage_24h"` and `y="price_change_percentage_7d"`. 
# Color the graph points with the labels found using K-Means and 
# add the crypto name in the `hover_cols` parameter to identify 
# the cryptocurrency represented by each data point.
kmeans_chart = market_data_scaled_copy_df.hvplot.scatter(
    x="price_change_percentage_24h",
    y="price_change_percentage_7d",
    hover_cols = ['coin_id'],
    by="clusters"
).opts(yformatter="%.0f")
kmeans_chart









# Create a PCA model instance and set `n_components=3`.
pca = PCA(n_components=3)


# Use the PCA model with `fit_transform` to reduce to 
# three principal components.
crypto_pca = pca.fit_transform(market_data_scaled_df)

# View the first five rows of the DataFrame. 
crypto_pca[:5]


# Retrieve the explained variance to determine how much information 
# can be attributed to each principal component.
pca.explained_variance_ratio_


sum(pca.explained_variance_ratio_)





# Create a new DataFrame with the PCA data.
crypto_pca_df = pd.DataFrame(
    crypto_pca,
    columns=['PCA1','PCA2','PCA3']
)
# Creating a DataFrame with the PCA data

# Copy the crypto names from the original data
crypto_pca_df['coin_id'] = df_market_data.index

# Set the coinid column as index
crypto_pca_df = crypto_pca_df.set_index('coin_id')

# Display sample data
crypto_pca_df.head()








# Create a list with the number of k-values from 1 to 11
k_pca = list(range(1,11))


# Create an empty list to store the inertia values
inertia_pca = []

# Create a for loop to compute the inertia with each possible value of k
# Inside the loop:
# 1. Create a KMeans model using the loop counter for the n_clusters
# 2. Fit the model to the data using `df_market_data_pca`
# 3. Append the model.inertia_ to the inertia list

for i in k_pca:
    k_model_pca = KMeans(n_clusters=i, random_state=1)
    k_model_pca.fit(crypto_pca_df)
    inertia_pca.append(k_model_pca.inertia_)


# Create a dictionary with the data to plot the Elbow curve
elbow_data_pca = {"k_pca": k_pca, "inertia_pca": inertia_pca}

# Create a DataFrame with the data to plot the Elbow curve
df_elbow_pca = pd.DataFrame(elbow_data_pca)


# Plot a line chart with all the inertia values computed with 
# the different values of k to visually identify the optimal value for k.
df_elbow.hvplot.line(
    x="k", 
    y="inertia", 
    title="Elbow Curve", 
    xticks=k_pca
)









# Initialize the K-Means model using the best value for k
model = KMeans(n_clusters=4, random_state=1)


# Fit the K-Means model using the PCA data
model.fit(crypto_pca_df)


# Predict the clusters to group the cryptocurrencies using the PCA data
k_pca = model.predict(crypto_pca_df)
# Print the resulting array of cluster values.
k_pca


# Create a copy of the DataFrame with the PCA data
crypto_predictions_df_copy = crypto_pca_df.copy()

# Add a new column to the DataFrame with the predicted clusters
crypto_predictions_df_copy['clusters'] = k_pca

# Display sample data
crypto_predictions_df_copy.head()


# Create a scatter plot using hvPlot by setting 
# `x="PC1"` and `y="PC2"`. 
# Color the graph points with the labels found using K-Means and 
# add the crypto name in the `hover_cols` parameter to identify 
# the cryptocurrency represented by each data point.

pca_chart = crypto_predictions_df_copy.hvplot.scatter(
    x="PCA1",
    y="PCA2",
    hover_cols = ['coin_id'],
    by="clusters"
).opts(yformatter="%.0f")
pca_chart






# Composite plot to contrast the clusters
kmeans_chart + pca_chart






